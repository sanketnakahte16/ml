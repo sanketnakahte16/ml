{
  "nbformat": 4,
  "nbformat_minor": 0,
  "metadata": {
    "colab": {
      "provenance": []
    },
    "kernelspec": {
      "name": "python3",
      "display_name": "Python 3"
    },
    "language_info": {
      "name": "python"
    }
  },
  "cells": [
    {
      "cell_type": "markdown",
      "source": [
        "#**<font color='BLACK'>Linear Regression <b>**"
      ],
      "metadata": {
        "id": "CeOBPpA29aq3"
      }
    },
    {
      "cell_type": "code",
      "source": [
        "import pandas as pd\n",
        "import numpy as np\n",
        "from matplotlib import pyplot as plt"
      ],
      "metadata": {
        "id": "JLCgNKQK9MWC"
      },
      "execution_count": null,
      "outputs": []
    },
    {
      "cell_type": "code",
      "source": [
        "x = np.array([1, 2, 3, 4, 5])\n",
        "y = np.array([1.2, 1.8, 2.6, 3.2, 3.8])\n"
      ],
      "metadata": {
        "id": "gEkSUW7F9MPG"
      },
      "execution_count": null,
      "outputs": []
    },
    {
      "cell_type": "code",
      "execution_count": null,
      "metadata": {
        "id": "bJSmgwpw7K2W",
        "colab": {
          "base_uri": "https://localhost:8080/",
          "height": 472
        },
        "outputId": "1b9875d5-67e5-4dd2-8b7a-faa646020c50"
      },
      "outputs": [
        {
          "output_type": "display_data",
          "data": {
            "text/plain": [
              "<Figure size 640x480 with 1 Axes>"
            ],
            "image/png": "[encoded data removed]"
          },
          "metadata": {}
        }
      ],
      "source": [
        "plt.plot(x,y, marker='o', linestyle='-', color='b')\n",
        "plt.xlabel('Weeks')\n",
        "plt.ylabel('Sales (in thousands)')\n",
        "plt.title('Weekly Sales Trend')\n",
        "plt.show()"
      ]
    },
    {
      "cell_type": "code",
      "source": [
        "x_avg=np.mean(x)\n",
        "y_avg=np.mean(y)\n",
        "x1_avg=np.mean(x*x)\n",
        "xy_avg=np.mean(x*y)\n",
        "print(\"x_avg =\", x_avg, \"\\ny_avg =\", y_avg, \"\\nx1_avg =\", x1_avg, \"\\nxy_avg =\", xy_avg)"
      ],
      "metadata": {
        "colab": {
          "base_uri": "https://localhost:8080/"
        },
        "id": "8LtN_z1V-8YJ",
        "outputId": "5782f15b-3eaf-4a26-fc2d-71d2f03571e0"
      },
      "execution_count": null,
      "outputs": [
        {
          "output_type": "stream",
          "name": "stdout",
          "text": [
            "x_avg = 3.0 \n",
            "y_avg = 2.5200000000000005 \n",
            "x1_avg = 11.0 \n",
            "xy_avg = 8.88\n"
          ]
        }
      ]
    },
    {
      "cell_type": "code",
      "source": [
        "a1= ((xy_avg)-(x_avg)*(y_avg))/((x1_avg)-(x_avg)*(x_avg))\n",
        "a0= y_avg - a1*x_avg\n",
        "print(\"a1 =\", a1, \"\\na0 =\", a0)"
      ],
      "metadata": {
        "colab": {
          "base_uri": "https://localhost:8080/"
        },
        "id": "u94BEkoNAth3",
        "outputId": "07ce17a6-57c3-4a79-e57c-ad471d1a9614"
      },
      "execution_count": null,
      "outputs": [
        {
          "output_type": "stream",
          "name": "stdout",
          "text": [
            "a1 = 0.6599999999999997 \n",
            "a0 = 0.5400000000000014\n"
          ]
        }
      ]
    },
    {
      "cell_type": "code",
      "source": [
        "# Model equation\n",
        "y_predict= a0 + a1 * x\n",
        "#for predict 7th week sale\n",
        "y_predict= a0 + a1 * 7\n",
        "print('7th week sale prediction =',y_predict)\n",
        "\n",
        "#for predict 12th week sale\n",
        "y_predict= a0 + a1 * 12\n",
        "print('12th week sale prediction =',y_predict)"
      ],
      "metadata": {
        "colab": {
          "base_uri": "https://localhost:8080/"
        },
        "id": "gzbtpZHiCypt",
        "outputId": "4b8324a0-32ba-423e-d3be-8c60524f5400"
      },
      "execution_count": null,
      "outputs": [
        {
          "output_type": "stream",
          "name": "stdout",
          "text": [
            "7th week sale prediction = 5.159999999999998\n",
            "12th week sale prediction = 8.459999999999997\n"
          ]
        }
      ]
    },
    {
      "cell_type": "markdown",
      "source": [
        "#**<font color='BLACK'>Linear Regression Matrix Method<b>**"
      ],
      "metadata": {
        "id": "kFh19rImDfN2"
      }
    },
    {
      "cell_type": "code",
      "source": [
        "import numpy as np\n",
        "\n",
        "# Given data\n",
        "x = np.array([1, 2, 3, 4])\n",
        "y = np.array([1, 3, 4, 8])\n",
        "\n",
        "# Prepare the design matrix X (adding a bias column)\n",
        "X = np.vstack((np.ones(len(x)), x)).T\n",
        "\n",
        "# Calculate coefficients using the normal equation\n",
        "beta = np.linalg.inv(X.T @ X) @ X.T @ y\n",
        "\n",
        "# Get intercept and slope\n",
        "intercept, slope = beta\n",
        "\n",
        "# Print the coefficients\n",
        "print(f\"Intercept (a0): {intercept}, Slope (a1): {slope}\")\n",
        "\n",
        "# Predicting the sales for the 5th week\n",
        "week_5 = 5\n",
        "prediction_week_5 = intercept + slope * week_5\n",
        "\n",
        "# Print the final prediction\n",
        "print(f\"Prediction for 5th week: {prediction_week_5}\")\n"
      ],
      "metadata": {
        "colab": {
          "base_uri": "https://localhost:8080/"
        },
        "id": "uqrYR2ENC91M",
        "outputId": "20360865-90ed-49d8-afd8-618c9badabbb"
      },
      "execution_count": null,
      "outputs": [
        {
          "output_type": "stream",
          "name": "stdout",
          "text": [
            "Intercept (a0): -1.5, Slope (a1): 2.2000000000000006\n",
            "Prediction for 5th week: 9.500000000000004\n"
          ]
        }
      ]
    },
    {
      "cell_type": "markdown",
      "source": [
        "#**<font color='BLACK'>Linear Regression Matrix Method Multiple variable<b>**"
      ],
      "metadata": {
        "id": "FyKTjtJYFCQM"
      }
    },
    {
      "cell_type": "code",
      "source": [
        "import numpy as np\n",
        "\n",
        "# Given data\n",
        "x1 = np.array([1, 2, 3, 4])\n",
        "x2 = np.array([4, 5, 8, 2])\n",
        "y = np.array([1, 6, 8, 12])\n",
        "\n",
        "# Prepare the design matrix X (adding a bias column)\n",
        "X = np.vstack((np.ones(len(x1)), x1, x2)).T  # Shape: (n_samples, n_features + 1)\n",
        "\n",
        "# Calculate coefficients using the normal equation\n",
        "beta = np.linalg.inv(X.T @ X) @ X.T @ y\n",
        "\n",
        "# Get intercept and slopes\n",
        "intercept, slope1, slope2 = beta\n",
        "\n",
        "# Print the coefficients\n",
        "print(f\"Intercept (a0): {intercept}, Slope (a1): {slope1}, Slope (a2): {slope2}\")\n",
        "\n",
        "# Predicting values (for example, using x1 = 5 and x2 = 3)\n",
        "x1_new = 5\n",
        "x2_new = 3\n",
        "prediction = intercept + slope1 * x1_new + slope2 * x2_new\n",
        "\n",
        "# Print the final prediction\n",
        "print(f\"Prediction for x1 = {x1_new} and x2 = {x2_new}: {prediction}\")\n"
      ],
      "metadata": {
        "colab": {
          "base_uri": "https://localhost:8080/"
        },
        "id": "vFYJjoFWDub3",
        "outputId": "b417bca1-e0a9-4a4d-b39c-fd6c0645a518"
      },
      "execution_count": null,
      "outputs": [
        {
          "output_type": "stream",
          "name": "stdout",
          "text": [
            "Intercept (a0): -1.6994535519125566, Slope (a1): 3.4836065573770454, Slope (a2): -0.05464480874316946\n",
            "Prediction for x1 = 5 and x2 = 3: 15.554644808743163\n"
          ]
        }
      ]
    },
    {
      "cell_type": "code",
      "source": [],
      "metadata": {
        "id": "tOgWFyO8Exft"
      },
      "execution_count": null,
      "outputs": []
    }
  ]
}